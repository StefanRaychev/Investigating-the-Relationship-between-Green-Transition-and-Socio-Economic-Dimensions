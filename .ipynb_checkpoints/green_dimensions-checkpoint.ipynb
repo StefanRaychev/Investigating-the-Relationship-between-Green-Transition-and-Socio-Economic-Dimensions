{
 "cells": [
  {
   "cell_type": "code",
   "execution_count": 1,
   "id": "24bdfcd8-e574-46bb-8e06-b32a05c51032",
   "metadata": {},
   "outputs": [],
   "source": [
    "import wbgapi as wb\n",
    "import wbdata\n",
    "import matplotlib.pyplot as plt\n",
    "import pandas as pd\n",
    "import numpy as np\n",
    "\n",
    "from sklearn.linear_model import RANSACRegressor\n",
    "from sklearn.metrics import r2_score\n",
    "\n",
    "import statsmodels.api as sm\n",
    "import warnings\n",
    "\n",
    "warnings.filterwarnings('ignore')"
   ]
  },
  {
   "cell_type": "markdown",
   "id": "4c8e74a4-ca0b-40a7-999c-5623e96c236d",
   "metadata": {},
   "source": [
    "<h1 style=\"color:black; background-color:white; padding:10px; padding-bottom:10px;text-align: center;\">Green dimensions</h1>"
   ]
  },
  {
   "cell_type": "code",
   "execution_count": null,
   "id": "d4b737a7-5c57-4f6f-b1e7-c4450bcb502b",
   "metadata": {},
   "outputs": [],
   "source": []
  },
  {
   "cell_type": "code",
   "execution_count": null,
   "id": "87d1940a-dc00-43d7-94bd-74c38c6474ae",
   "metadata": {},
   "outputs": [],
   "source": []
  },
  {
   "cell_type": "code",
   "execution_count": null,
   "id": "034e953c-1953-4fdc-8ef7-512d521f8d80",
   "metadata": {},
   "outputs": [],
   "source": []
  },
  {
   "cell_type": "markdown",
   "id": "2d6539b1-560d-4cf9-a512-235e9384f3cc",
   "metadata": {},
   "source": [
    "---"
   ]
  },
  {
   "cell_type": "code",
   "execution_count": null,
   "id": "ebd93ec9-14ec-471e-8b60-9d173020c822",
   "metadata": {},
   "outputs": [],
   "source": []
  }
 ],
 "metadata": {
  "kernelspec": {
   "display_name": "Python 3 (ipykernel)",
   "language": "python",
   "name": "python3"
  },
  "language_info": {
   "codemirror_mode": {
    "name": "ipython",
    "version": 3
   },
   "file_extension": ".py",
   "mimetype": "text/x-python",
   "name": "python",
   "nbconvert_exporter": "python",
   "pygments_lexer": "ipython3",
   "version": "3.8.12"
  }
 },
 "nbformat": 4,
 "nbformat_minor": 5
}
